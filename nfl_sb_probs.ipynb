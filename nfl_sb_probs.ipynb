{
  "nbformat": 4,
  "nbformat_minor": 0,
  "metadata": {
    "colab": {
      "name": "nfl_sb_probs.ipynb",
      "provenance": [],
      "authorship_tag": "ABX9TyNvccBIg5jwOrKEjSVJdy4J",
      "include_colab_link": true
    },
    "kernelspec": {
      "name": "python3",
      "display_name": "Python 3"
    }
  },
  "cells": [
    {
      "cell_type": "markdown",
      "metadata": {
        "id": "view-in-github",
        "colab_type": "text"
      },
      "source": [
        "<a href=\"https://colab.research.google.com/github/whegedusich/SuperBowlWinFactors/blob/main/nfl_sb_probs.ipynb\" target=\"_parent\"><img src=\"https://colab.research.google.com/assets/colab-badge.svg\" alt=\"Open In Colab\"/></a>"
      ]
    },
    {
      "cell_type": "code",
      "metadata": {
        "id": "bCFnlPgbybDn"
      },
      "source": [
        "# Import packages\r\n",
        "import sportsipy\r\n",
        "from sportsipy.nfl.teams import Teams\r\n",
        "import pandas as pd"
      ],
      "execution_count": 229,
      "outputs": []
    },
    {
      "cell_type": "code",
      "metadata": {
        "colab": {
          "base_uri": "https://localhost:8080/",
          "height": 204
        },
        "id": "Jhh077F9y30s",
        "outputId": "e66748a0-f9d3-479a-f47b-b83b89a093b4"
      },
      "source": [
        "# Load data\r\n",
        "years = range(2002, 2019, 1)\r\n",
        "\r\n",
        "# Read in relevant data for all teams for every year from 2002 to 2019\r\n",
        "info = [[year, team.name, team.wins, team.losses, team.win_percentage, team.post_season_result] for year in years for team in Teams(year)]\r\n",
        "\r\n",
        "# Put data into DataFrame\r\n",
        "data = pd.DataFrame(columns=['Year', 'Team', 'Wins', 'Losses', 'Win_Ratio', 'SB_Champ'],\r\n",
        "                    data=info)\r\n",
        "  \r\n",
        "data.head()"
      ],
      "execution_count": 230,
      "outputs": [
        {
          "output_type": "execute_result",
          "data": {
            "text/html": [
              "<div>\n",
              "<style scoped>\n",
              "    .dataframe tbody tr th:only-of-type {\n",
              "        vertical-align: middle;\n",
              "    }\n",
              "\n",
              "    .dataframe tbody tr th {\n",
              "        vertical-align: top;\n",
              "    }\n",
              "\n",
              "    .dataframe thead th {\n",
              "        text-align: right;\n",
              "    }\n",
              "</style>\n",
              "<table border=\"1\" class=\"dataframe\">\n",
              "  <thead>\n",
              "    <tr style=\"text-align: right;\">\n",
              "      <th></th>\n",
              "      <th>Year</th>\n",
              "      <th>Team</th>\n",
              "      <th>Wins</th>\n",
              "      <th>Losses</th>\n",
              "      <th>Win_Ratio</th>\n",
              "      <th>SB_Champ</th>\n",
              "    </tr>\n",
              "  </thead>\n",
              "  <tbody>\n",
              "    <tr>\n",
              "      <th>0</th>\n",
              "      <td>2002</td>\n",
              "      <td>Kansas City Chiefs</td>\n",
              "      <td>8</td>\n",
              "      <td>8</td>\n",
              "      <td>0.500</td>\n",
              "      <td>None</td>\n",
              "    </tr>\n",
              "    <tr>\n",
              "      <th>1</th>\n",
              "      <td>2002</td>\n",
              "      <td>Oakland Raiders</td>\n",
              "      <td>11</td>\n",
              "      <td>5</td>\n",
              "      <td>0.688</td>\n",
              "      <td>Lost Conference Championship</td>\n",
              "    </tr>\n",
              "    <tr>\n",
              "      <th>2</th>\n",
              "      <td>2002</td>\n",
              "      <td>New Orleans Saints</td>\n",
              "      <td>9</td>\n",
              "      <td>7</td>\n",
              "      <td>0.563</td>\n",
              "      <td>None</td>\n",
              "    </tr>\n",
              "    <tr>\n",
              "      <th>3</th>\n",
              "      <td>2002</td>\n",
              "      <td>Philadelphia Eagles</td>\n",
              "      <td>12</td>\n",
              "      <td>4</td>\n",
              "      <td>0.750</td>\n",
              "      <td>Lost Conference Championship</td>\n",
              "    </tr>\n",
              "    <tr>\n",
              "      <th>4</th>\n",
              "      <td>2002</td>\n",
              "      <td>Atlanta Falcons</td>\n",
              "      <td>9</td>\n",
              "      <td>6</td>\n",
              "      <td>0.594</td>\n",
              "      <td>Lost Divisional</td>\n",
              "    </tr>\n",
              "  </tbody>\n",
              "</table>\n",
              "</div>"
            ],
            "text/plain": [
              "   Year                 Team  ...  Win_Ratio                      SB_Champ\n",
              "0  2002   Kansas City Chiefs  ...      0.500                          None\n",
              "1  2002      Oakland Raiders  ...      0.688  Lost Conference Championship\n",
              "2  2002   New Orleans Saints  ...      0.563                          None\n",
              "3  2002  Philadelphia Eagles  ...      0.750  Lost Conference Championship\n",
              "4  2002      Atlanta Falcons  ...      0.594               Lost Divisional\n",
              "\n",
              "[5 rows x 6 columns]"
            ]
          },
          "metadata": {
            "tags": []
          },
          "execution_count": 230
        }
      ]
    },
    {
      "cell_type": "code",
      "metadata": {
        "id": "CihIopzCVyd1"
      },
      "source": [
        "# Create dummies from postseason result column\r\n",
        "data = pd.get_dummies(data, columns=['SB_Champ'], drop_first=True)\r\n",
        "# Drop Lost SB column since this leaks info about the target column\r\n",
        "data.drop(columns='SB_Champ_Lost Super Bowl', inplace=True)"
      ],
      "execution_count": 231,
      "outputs": []
    },
    {
      "cell_type": "code",
      "metadata": {
        "colab": {
          "base_uri": "https://localhost:8080/",
          "height": 296
        },
        "id": "C91tKpVraCxE",
        "outputId": "330a5a32-1b5f-46a5-fcfe-b24cb8c42923"
      },
      "source": [
        "import seaborn as sns\r\n",
        "\r\n",
        "sns.histplot(data['Wins'], color='green')"
      ],
      "execution_count": 232,
      "outputs": [
        {
          "output_type": "execute_result",
          "data": {
            "text/plain": [
              "<matplotlib.axes._subplots.AxesSubplot at 0x7f71ac2d09b0>"
            ]
          },
          "metadata": {
            "tags": []
          },
          "execution_count": 232
        },
        {
          "output_type": "display_data",
          "data": {
            "image/png": "[encoded data removed]",
            "text/plain": [
              "<Figure size 432x288 with 1 Axes>"
            ]
          },
          "metadata": {
            "tags": [],
            "needs_background": "light"
          }
        }
      ]
    },
    {
      "cell_type": "code",
      "metadata": {
        "colab": {
          "base_uri": "https://localhost:8080/",
          "height": 296
        },
        "id": "Annl8i3kagIM",
        "outputId": "a5fdd2cd-5e8b-4044-dc91-06f13de6de81"
      },
      "source": [
        "sns.histplot(data['Losses'], color='r')"
      ],
      "execution_count": 233,
      "outputs": [
        {
          "output_type": "execute_result",
          "data": {
            "text/plain": [
              "<matplotlib.axes._subplots.AxesSubplot at 0x7f71ac213828>"
            ]
          },
          "metadata": {
            "tags": []
          },
          "execution_count": 233
        },
        {
          "output_type": "display_data",
          "data": {
            "image/png": "[encoded data removed]",
            "text/plain": [
              "<Figure size 432x288 with 1 Axes>"
            ]
          },
          "metadata": {
            "tags": [],
            "needs_background": "light"
          }
        }
      ]
    },
    {
      "cell_type": "code",
      "metadata": {
        "colab": {
          "base_uri": "https://localhost:8080/",
          "height": 297
        },
        "id": "d2sKox9VahgL",
        "outputId": "b7279167-52af-472e-cf15-6890111929d4"
      },
      "source": [
        "sns.histplot(data['Win_Ratio'])"
      ],
      "execution_count": 234,
      "outputs": [
        {
          "output_type": "execute_result",
          "data": {
            "text/plain": [
              "<matplotlib.axes._subplots.AxesSubplot at 0x7f71ac2ff320>"
            ]
          },
          "metadata": {
            "tags": []
          },
          "execution_count": 234
        },
        {
          "output_type": "display_data",
          "data": {
            "image/png": "[encoded data removed]",
            "text/plain": [
              "<Figure size 432x288 with 1 Axes>"
            ]
          },
          "metadata": {
            "tags": [],
            "needs_background": "light"
          }
        }
      ]
    },
    {
      "cell_type": "code",
      "metadata": {
        "colab": {
          "base_uri": "https://localhost:8080/"
        },
        "id": "1Po9Xp7trMvc",
        "outputId": "3ce3fa69-463b-4138-d64b-91bc55851628"
      },
      "source": [
        "from sklearn.utils import resample\r\n",
        "\r\n",
        "minority = data[data['SB_Champ_Won Super Bowl'] == 1]\r\n",
        "majority = data[data['SB_Champ_Won Super Bowl'] == 0]\r\n",
        "\r\n",
        "# Resample minority class for better balance\r\n",
        "min_upsampled = resample(minority,\r\n",
        "                         replace=True,\r\n",
        "                         n_samples = len(majority),\r\n",
        "                         random_state=42)\r\n",
        "\r\n",
        "data_balanced = pd.concat([min_upsampled, majority])\r\n",
        "\r\n",
        "data_balanced['SB_Champ_Won Super Bowl'].value_counts()"
      ],
      "execution_count": 235,
      "outputs": [
        {
          "output_type": "execute_result",
          "data": {
            "text/plain": [
              "1    528\n",
              "0    528\n",
              "Name: SB_Champ_Won Super Bowl, dtype: int64"
            ]
          },
          "metadata": {
            "tags": []
          },
          "execution_count": 235
        }
      ]
    },
    {
      "cell_type": "code",
      "metadata": {
        "id": "w_jaLPizaojz"
      },
      "source": [
        "from sklearn.model_selection import train_test_split\r\n",
        "\r\n",
        "def standard_scale(s: pd.Series, mu=None, si=None) -> pd.Series: \r\n",
        "  \"\"\"\r\n",
        "  Calculate mean and standard deviation and standardize the Seres\r\n",
        "  \"\"\"\r\n",
        "  mu = s.mean()\r\n",
        "  si = s.std()\r\n",
        "\r\n",
        "  return s.apply(lambda x: (x-mu)/si), mu, si\r\n",
        "\r\n",
        "use_cols = ['Win_Ratio']\r\n",
        "\r\n",
        "x_train, x_test, y_train, y_test = train_test_split(data_balanced[use_cols], data_balanced['SB_Champ_Won Super Bowl'], test_size=0.3, random_state=42)\r\n",
        "\r\n",
        "x_train['Win_Ratio_Norm'], mu_wr, si_wr =  standard_scale(x_train['Win_Ratio'])\r\n",
        "\r\n",
        "x_train.drop(columns=['Win_Ratio'], inplace=True)\r\n",
        "\r\n",
        "x_test['Win_Ratio_Norm'], _, _ = standard_scale(x_test['Win_Ratio'], mu=mu_wr, si=si_wr)\r\n",
        "\r\n",
        "x_test.drop(columns=['Win_Ratio'], inplace=True)"
      ],
      "execution_count": 236,
      "outputs": []
    },
    {
      "cell_type": "code",
      "metadata": {
        "colab": {
          "base_uri": "https://localhost:8080/"
        },
        "id": "RAtaQGhJkJ-W",
        "outputId": "63d9241f-4ef3-4934-95ec-7522c0569260"
      },
      "source": [
        "from sklearn.linear_model import LogisticRegression\r\n",
        "from sklearn.model_selection import cross_validate\r\n",
        "\r\n",
        "logreg = LogisticRegression(random_state=42)\r\n",
        "\r\n",
        "logreg.fit(x_train, y_train)\r\n",
        "preds = logreg.predict(x_test)\r\n",
        "probs = logreg.predict_proba(x_test)\r\n",
        "logreg.score(x_test, y_test)"
      ],
      "execution_count": 237,
      "outputs": [
        {
          "output_type": "execute_result",
          "data": {
            "text/plain": [
              "0.7602523659305994"
            ]
          },
          "metadata": {
            "tags": []
          },
          "execution_count": 237
        }
      ]
    },
    {
      "cell_type": "code",
      "metadata": {
        "colab": {
          "base_uri": "https://localhost:8080/",
          "height": 419
        },
        "id": "7qa25vyN2KxD",
        "outputId": "f8e45496-af25-4809-d3fd-4bd50cc16434"
      },
      "source": [
        "samp = data['Win_Ratio'].copy()\r\n",
        "samp\r\n",
        "samp, _, _ = standard_scale(samp, mu=mu_wr, si=si_wr)\r\n",
        "samp = pd.DataFrame(samp)\r\n",
        "preds = logreg.predict_proba(samp)\r\n",
        "data[['Loss Prob', 'Win Prob']] = preds\r\n",
        "\r\n",
        "data.sort_values(by='Win Prob', ascending=False)"
      ],
      "execution_count": 267,
      "outputs": [
        {
          "output_type": "execute_result",
          "data": {
            "text/html": [
              "<div>\n",
              "<style scoped>\n",
              "    .dataframe tbody tr th:only-of-type {\n",
              "        vertical-align: middle;\n",
              "    }\n",
              "\n",
              "    .dataframe tbody tr th {\n",
              "        vertical-align: top;\n",
              "    }\n",
              "\n",
              "    .dataframe thead th {\n",
              "        text-align: right;\n",
              "    }\n",
              "</style>\n",
              "<table border=\"1\" class=\"dataframe\">\n",
              "  <thead>\n",
              "    <tr style=\"text-align: right;\">\n",
              "      <th></th>\n",
              "      <th>Year</th>\n",
              "      <th>Team</th>\n",
              "      <th>Wins</th>\n",
              "      <th>Losses</th>\n",
              "      <th>Win_Ratio</th>\n",
              "      <th>SB_Champ_Lost Divisional</th>\n",
              "      <th>SB_Champ_Lost WC</th>\n",
              "      <th>SB_Champ_Won Super Bowl</th>\n",
              "      <th>Loss Prob</th>\n",
              "      <th>Win Prob</th>\n",
              "    </tr>\n",
              "  </thead>\n",
              "  <tbody>\n",
              "    <tr>\n",
              "      <th>160</th>\n",
              "      <td>2007</td>\n",
              "      <td>New England Patriots</td>\n",
              "      <td>16</td>\n",
              "      <td>0</td>\n",
              "      <td>1.000</td>\n",
              "      <td>0</td>\n",
              "      <td>0</td>\n",
              "      <td>0</td>\n",
              "      <td>0.002745</td>\n",
              "      <td>0.997255</td>\n",
              "    </tr>\n",
              "    <tr>\n",
              "      <th>74</th>\n",
              "      <td>2004</td>\n",
              "      <td>Pittsburgh Steelers</td>\n",
              "      <td>15</td>\n",
              "      <td>1</td>\n",
              "      <td>0.938</td>\n",
              "      <td>0</td>\n",
              "      <td>0</td>\n",
              "      <td>0</td>\n",
              "      <td>0.005951</td>\n",
              "      <td>0.994049</td>\n",
              "    </tr>\n",
              "    <tr>\n",
              "      <th>288</th>\n",
              "      <td>2011</td>\n",
              "      <td>Green Bay Packers</td>\n",
              "      <td>15</td>\n",
              "      <td>1</td>\n",
              "      <td>0.938</td>\n",
              "      <td>1</td>\n",
              "      <td>0</td>\n",
              "      <td>0</td>\n",
              "      <td>0.005951</td>\n",
              "      <td>0.994049</td>\n",
              "    </tr>\n",
              "    <tr>\n",
              "      <th>416</th>\n",
              "      <td>2015</td>\n",
              "      <td>Carolina Panthers</td>\n",
              "      <td>15</td>\n",
              "      <td>1</td>\n",
              "      <td>0.938</td>\n",
              "      <td>0</td>\n",
              "      <td>0</td>\n",
              "      <td>0</td>\n",
              "      <td>0.005951</td>\n",
              "      <td>0.994049</td>\n",
              "    </tr>\n",
              "    <tr>\n",
              "      <th>256</th>\n",
              "      <td>2010</td>\n",
              "      <td>New England Patriots</td>\n",
              "      <td>14</td>\n",
              "      <td>2</td>\n",
              "      <td>0.875</td>\n",
              "      <td>1</td>\n",
              "      <td>0</td>\n",
              "      <td>0</td>\n",
              "      <td>0.013013</td>\n",
              "      <td>0.986987</td>\n",
              "    </tr>\n",
              "    <tr>\n",
              "      <th>...</th>\n",
              "      <td>...</td>\n",
              "      <td>...</td>\n",
              "      <td>...</td>\n",
              "      <td>...</td>\n",
              "      <td>...</td>\n",
              "      <td>...</td>\n",
              "      <td>...</td>\n",
              "      <td>...</td>\n",
              "      <td>...</td>\n",
              "      <td>...</td>\n",
              "    </tr>\n",
              "    <tr>\n",
              "      <th>185</th>\n",
              "      <td>2007</td>\n",
              "      <td>Miami Dolphins</td>\n",
              "      <td>1</td>\n",
              "      <td>15</td>\n",
              "      <td>0.063</td>\n",
              "      <td>0</td>\n",
              "      <td>0</td>\n",
              "      <td>0</td>\n",
              "      <td>0.997120</td>\n",
              "      <td>0.002880</td>\n",
              "    </tr>\n",
              "    <tr>\n",
              "      <th>478</th>\n",
              "      <td>2016</td>\n",
              "      <td>Cleveland Browns</td>\n",
              "      <td>1</td>\n",
              "      <td>15</td>\n",
              "      <td>0.063</td>\n",
              "      <td>0</td>\n",
              "      <td>0</td>\n",
              "      <td>0</td>\n",
              "      <td>0.997120</td>\n",
              "      <td>0.002880</td>\n",
              "    </tr>\n",
              "    <tr>\n",
              "      <th>255</th>\n",
              "      <td>2009</td>\n",
              "      <td>St. Louis Rams</td>\n",
              "      <td>1</td>\n",
              "      <td>15</td>\n",
              "      <td>0.063</td>\n",
              "      <td>0</td>\n",
              "      <td>0</td>\n",
              "      <td>0</td>\n",
              "      <td>0.997120</td>\n",
              "      <td>0.002880</td>\n",
              "    </tr>\n",
              "    <tr>\n",
              "      <th>218</th>\n",
              "      <td>2008</td>\n",
              "      <td>Detroit Lions</td>\n",
              "      <td>0</td>\n",
              "      <td>16</td>\n",
              "      <td>0.000</td>\n",
              "      <td>0</td>\n",
              "      <td>0</td>\n",
              "      <td>0</td>\n",
              "      <td>0.998690</td>\n",
              "      <td>0.001310</td>\n",
              "    </tr>\n",
              "    <tr>\n",
              "      <th>511</th>\n",
              "      <td>2017</td>\n",
              "      <td>Cleveland Browns</td>\n",
              "      <td>0</td>\n",
              "      <td>16</td>\n",
              "      <td>0.000</td>\n",
              "      <td>0</td>\n",
              "      <td>0</td>\n",
              "      <td>0</td>\n",
              "      <td>0.998690</td>\n",
              "      <td>0.001310</td>\n",
              "    </tr>\n",
              "  </tbody>\n",
              "</table>\n",
              "<p>544 rows × 10 columns</p>\n",
              "</div>"
            ],
            "text/plain": [
              "     Year                  Team  ...  Loss Prob  Win Prob\n",
              "160  2007  New England Patriots  ...   0.002745  0.997255\n",
              "74   2004   Pittsburgh Steelers  ...   0.005951  0.994049\n",
              "288  2011     Green Bay Packers  ...   0.005951  0.994049\n",
              "416  2015     Carolina Panthers  ...   0.005951  0.994049\n",
              "256  2010  New England Patriots  ...   0.013013  0.986987\n",
              "..    ...                   ...  ...        ...       ...\n",
              "185  2007        Miami Dolphins  ...   0.997120  0.002880\n",
              "478  2016      Cleveland Browns  ...   0.997120  0.002880\n",
              "255  2009        St. Louis Rams  ...   0.997120  0.002880\n",
              "218  2008         Detroit Lions  ...   0.998690  0.001310\n",
              "511  2017      Cleveland Browns  ...   0.998690  0.001310\n",
              "\n",
              "[544 rows x 10 columns]"
            ]
          },
          "metadata": {
            "tags": []
          },
          "execution_count": 267
        }
      ]
    },
    {
      "cell_type": "code",
      "metadata": {
        "colab": {
          "base_uri": "https://localhost:8080/",
          "height": 545
        },
        "id": "jTcGnzPb3vaa",
        "outputId": "68d626db-f3ad-4f26-958f-793f894f14c1"
      },
      "source": [
        "data[data['SB_Champ_Won Super Bowl'] == 1].sort_values(by='Win_Ratio', ascending=False)"
      ],
      "execution_count": 271,
      "outputs": [
        {
          "output_type": "execute_result",
          "data": {
            "text/html": [
              "<div>\n",
              "<style scoped>\n",
              "    .dataframe tbody tr th:only-of-type {\n",
              "        vertical-align: middle;\n",
              "    }\n",
              "\n",
              "    .dataframe tbody tr th {\n",
              "        vertical-align: top;\n",
              "    }\n",
              "\n",
              "    .dataframe thead th {\n",
              "        text-align: right;\n",
              "    }\n",
              "</style>\n",
              "<table border=\"1\" class=\"dataframe\">\n",
              "  <thead>\n",
              "    <tr style=\"text-align: right;\">\n",
              "      <th></th>\n",
              "      <th>Year</th>\n",
              "      <th>Team</th>\n",
              "      <th>Wins</th>\n",
              "      <th>Losses</th>\n",
              "      <th>Win_Ratio</th>\n",
              "      <th>SB_Champ_Lost Divisional</th>\n",
              "      <th>SB_Champ_Lost WC</th>\n",
              "      <th>SB_Champ_Won Super Bowl</th>\n",
              "      <th>Loss Prob</th>\n",
              "      <th>Win Prob</th>\n",
              "    </tr>\n",
              "  </thead>\n",
              "  <tbody>\n",
              "    <tr>\n",
              "      <th>43</th>\n",
              "      <td>2003</td>\n",
              "      <td>New England Patriots</td>\n",
              "      <td>14</td>\n",
              "      <td>2</td>\n",
              "      <td>0.875</td>\n",
              "      <td>0</td>\n",
              "      <td>0</td>\n",
              "      <td>1</td>\n",
              "      <td>0.013013</td>\n",
              "      <td>0.986987</td>\n",
              "    </tr>\n",
              "    <tr>\n",
              "      <th>67</th>\n",
              "      <td>2004</td>\n",
              "      <td>New England Patriots</td>\n",
              "      <td>14</td>\n",
              "      <td>2</td>\n",
              "      <td>0.875</td>\n",
              "      <td>0</td>\n",
              "      <td>0</td>\n",
              "      <td>1</td>\n",
              "      <td>0.013013</td>\n",
              "      <td>0.986987</td>\n",
              "    </tr>\n",
              "    <tr>\n",
              "      <th>450</th>\n",
              "      <td>2016</td>\n",
              "      <td>New England Patriots</td>\n",
              "      <td>14</td>\n",
              "      <td>2</td>\n",
              "      <td>0.875</td>\n",
              "      <td>0</td>\n",
              "      <td>0</td>\n",
              "      <td>1</td>\n",
              "      <td>0.013013</td>\n",
              "      <td>0.986987</td>\n",
              "    </tr>\n",
              "    <tr>\n",
              "      <th>224</th>\n",
              "      <td>2009</td>\n",
              "      <td>New Orleans Saints</td>\n",
              "      <td>13</td>\n",
              "      <td>3</td>\n",
              "      <td>0.813</td>\n",
              "      <td>0</td>\n",
              "      <td>0</td>\n",
              "      <td>1</td>\n",
              "      <td>0.027875</td>\n",
              "      <td>0.972125</td>\n",
              "    </tr>\n",
              "    <tr>\n",
              "      <th>360</th>\n",
              "      <td>2013</td>\n",
              "      <td>Seattle Seahawks</td>\n",
              "      <td>13</td>\n",
              "      <td>3</td>\n",
              "      <td>0.813</td>\n",
              "      <td>0</td>\n",
              "      <td>0</td>\n",
              "      <td>1</td>\n",
              "      <td>0.027875</td>\n",
              "      <td>0.972125</td>\n",
              "    </tr>\n",
              "    <tr>\n",
              "      <th>482</th>\n",
              "      <td>2017</td>\n",
              "      <td>Philadelphia Eagles</td>\n",
              "      <td>13</td>\n",
              "      <td>3</td>\n",
              "      <td>0.813</td>\n",
              "      <td>0</td>\n",
              "      <td>0</td>\n",
              "      <td>1</td>\n",
              "      <td>0.027875</td>\n",
              "      <td>0.972125</td>\n",
              "    </tr>\n",
              "    <tr>\n",
              "      <th>130</th>\n",
              "      <td>2006</td>\n",
              "      <td>Indianapolis Colts</td>\n",
              "      <td>12</td>\n",
              "      <td>4</td>\n",
              "      <td>0.750</td>\n",
              "      <td>0</td>\n",
              "      <td>0</td>\n",
              "      <td>1</td>\n",
              "      <td>0.059400</td>\n",
              "      <td>0.940600</td>\n",
              "    </tr>\n",
              "    <tr>\n",
              "      <th>211</th>\n",
              "      <td>2008</td>\n",
              "      <td>Pittsburgh Steelers</td>\n",
              "      <td>12</td>\n",
              "      <td>4</td>\n",
              "      <td>0.750</td>\n",
              "      <td>0</td>\n",
              "      <td>0</td>\n",
              "      <td>1</td>\n",
              "      <td>0.059400</td>\n",
              "      <td>0.940600</td>\n",
              "    </tr>\n",
              "    <tr>\n",
              "      <th>387</th>\n",
              "      <td>2014</td>\n",
              "      <td>New England Patriots</td>\n",
              "      <td>12</td>\n",
              "      <td>4</td>\n",
              "      <td>0.750</td>\n",
              "      <td>0</td>\n",
              "      <td>0</td>\n",
              "      <td>1</td>\n",
              "      <td>0.059400</td>\n",
              "      <td>0.940600</td>\n",
              "    </tr>\n",
              "    <tr>\n",
              "      <th>434</th>\n",
              "      <td>2015</td>\n",
              "      <td>Denver Broncos</td>\n",
              "      <td>12</td>\n",
              "      <td>4</td>\n",
              "      <td>0.750</td>\n",
              "      <td>0</td>\n",
              "      <td>0</td>\n",
              "      <td>1</td>\n",
              "      <td>0.059400</td>\n",
              "      <td>0.940600</td>\n",
              "    </tr>\n",
              "    <tr>\n",
              "      <th>104</th>\n",
              "      <td>2005</td>\n",
              "      <td>Pittsburgh Steelers</td>\n",
              "      <td>11</td>\n",
              "      <td>5</td>\n",
              "      <td>0.688</td>\n",
              "      <td>0</td>\n",
              "      <td>0</td>\n",
              "      <td>1</td>\n",
              "      <td>0.120761</td>\n",
              "      <td>0.879239</td>\n",
              "    </tr>\n",
              "    <tr>\n",
              "      <th>515</th>\n",
              "      <td>2018</td>\n",
              "      <td>New England Patriots</td>\n",
              "      <td>11</td>\n",
              "      <td>5</td>\n",
              "      <td>0.688</td>\n",
              "      <td>0</td>\n",
              "      <td>0</td>\n",
              "      <td>1</td>\n",
              "      <td>0.120761</td>\n",
              "      <td>0.879239</td>\n",
              "    </tr>\n",
              "    <tr>\n",
              "      <th>173</th>\n",
              "      <td>2007</td>\n",
              "      <td>New York Giants</td>\n",
              "      <td>10</td>\n",
              "      <td>6</td>\n",
              "      <td>0.625</td>\n",
              "      <td>0</td>\n",
              "      <td>0</td>\n",
              "      <td>1</td>\n",
              "      <td>0.232235</td>\n",
              "      <td>0.767765</td>\n",
              "    </tr>\n",
              "    <tr>\n",
              "      <th>265</th>\n",
              "      <td>2010</td>\n",
              "      <td>Green Bay Packers</td>\n",
              "      <td>10</td>\n",
              "      <td>6</td>\n",
              "      <td>0.625</td>\n",
              "      <td>0</td>\n",
              "      <td>0</td>\n",
              "      <td>1</td>\n",
              "      <td>0.232235</td>\n",
              "      <td>0.767765</td>\n",
              "    </tr>\n",
              "    <tr>\n",
              "      <th>329</th>\n",
              "      <td>2012</td>\n",
              "      <td>Baltimore Ravens</td>\n",
              "      <td>10</td>\n",
              "      <td>6</td>\n",
              "      <td>0.625</td>\n",
              "      <td>0</td>\n",
              "      <td>0</td>\n",
              "      <td>1</td>\n",
              "      <td>0.232235</td>\n",
              "      <td>0.767765</td>\n",
              "    </tr>\n",
              "    <tr>\n",
              "      <th>296</th>\n",
              "      <td>2011</td>\n",
              "      <td>New York Giants</td>\n",
              "      <td>9</td>\n",
              "      <td>7</td>\n",
              "      <td>0.563</td>\n",
              "      <td>0</td>\n",
              "      <td>0</td>\n",
              "      <td>1</td>\n",
              "      <td>0.396816</td>\n",
              "      <td>0.603184</td>\n",
              "    </tr>\n",
              "  </tbody>\n",
              "</table>\n",
              "</div>"
            ],
            "text/plain": [
              "     Year                  Team  ...  Loss Prob  Win Prob\n",
              "43   2003  New England Patriots  ...   0.013013  0.986987\n",
              "67   2004  New England Patriots  ...   0.013013  0.986987\n",
              "450  2016  New England Patriots  ...   0.013013  0.986987\n",
              "224  2009    New Orleans Saints  ...   0.027875  0.972125\n",
              "360  2013      Seattle Seahawks  ...   0.027875  0.972125\n",
              "482  2017   Philadelphia Eagles  ...   0.027875  0.972125\n",
              "130  2006    Indianapolis Colts  ...   0.059400  0.940600\n",
              "211  2008   Pittsburgh Steelers  ...   0.059400  0.940600\n",
              "387  2014  New England Patriots  ...   0.059400  0.940600\n",
              "434  2015        Denver Broncos  ...   0.059400  0.940600\n",
              "104  2005   Pittsburgh Steelers  ...   0.120761  0.879239\n",
              "515  2018  New England Patriots  ...   0.120761  0.879239\n",
              "173  2007       New York Giants  ...   0.232235  0.767765\n",
              "265  2010     Green Bay Packers  ...   0.232235  0.767765\n",
              "329  2012      Baltimore Ravens  ...   0.232235  0.767765\n",
              "296  2011       New York Giants  ...   0.396816  0.603184\n",
              "\n",
              "[16 rows x 10 columns]"
            ]
          },
          "metadata": {
            "tags": []
          },
          "execution_count": 271
        }
      ]
    }
  ]
}